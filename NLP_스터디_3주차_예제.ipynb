{
  "nbformat": 4,
  "nbformat_minor": 0,
  "metadata": {
    "colab": {
      "provenance": []
    },
    "kernelspec": {
      "name": "python3",
      "display_name": "Python 3"
    },
    "language_info": {
      "name": "python"
    }
  },
  "cells": [
    {
      "cell_type": "markdown",
      "source": [
        "## 라이브러리"
      ],
      "metadata": {
        "id": "_1zK4oiQ7q3R"
      }
    },
    {
      "cell_type": "code",
      "source": [
        "import tensorflow as tf\n",
        "from tensorflow.keras.layers import SimpleRNN, Dense\n",
        "from tensorflow.keras.models import Sequential\n",
        "from tensorflow.keras.preprocessing.text import Tokenizer\n",
        "from tensorflow.keras.utils import to_categorical\n",
        "import numpy as np"
      ],
      "metadata": {
        "id": "MXsp0kCI7tCi"
      },
      "execution_count": 1,
      "outputs": []
    },
    {
      "cell_type": "markdown",
      "source": [
        "## 예제 문장 정의 및 토큰화"
      ],
      "metadata": {
        "id": "cOEiruiw718A"
      }
    },
    {
      "cell_type": "code",
      "source": [
        "# 문장 정의\n",
        "sentence = 'I want to study NLP using RNN.'"
      ],
      "metadata": {
        "id": "fkKndsuP75HJ"
      },
      "execution_count": 6,
      "outputs": []
    },
    {
      "cell_type": "code",
      "source": [
        "# 토큰화\n",
        "tokenizer = Tokenizer(char_level=True)\n",
        "tokenizer.fit_on_texts([sentence])"
      ],
      "metadata": {
        "id": "DTFRZkXv8s1c"
      },
      "execution_count": 7,
      "outputs": []
    },
    {
      "cell_type": "markdown",
      "source": [
        "## 입력 데이터 전처리"
      ],
      "metadata": {
        "id": "isKGvm988Esc"
      }
    },
    {
      "cell_type": "code",
      "source": [
        "# 문자를 정수 인덱스로 변환\n",
        "encoded = tokenizer.texts_to_sequences([sentence])[0]"
      ],
      "metadata": {
        "id": "1jOxyfJn8LG3"
      },
      "execution_count": 8,
      "outputs": []
    },
    {
      "cell_type": "code",
      "source": [
        "# 입력 시퀀스와 출력 시퀀스 준비\n",
        "sequences = []\n",
        "for i in range(1, len(encoded)):\n",
        "    sequence = encoded[i-1:i+1]\n",
        "    sequences.append(sequence)\n",
        "\n",
        "sequences = np.array(sequences)"
      ],
      "metadata": {
        "id": "Y6K-kj638i94"
      },
      "execution_count": 9,
      "outputs": []
    },
    {
      "cell_type": "code",
      "source": [
        "# 입력(X)과 출력(y) 분리\n",
        "X, y = sequences[:,0],sequences[:,1]"
      ],
      "metadata": {
        "id": "JxHSV6Dv8mKC"
      },
      "execution_count": 10,
      "outputs": []
    },
    {
      "cell_type": "code",
      "source": [
        "# 출력 데이터를 one-hot 인코딩\n",
        "y = to_categorical(y, num_classes=len(tokenizer.word_index)+1)"
      ],
      "metadata": {
        "id": "sBHeYq1d8oG6"
      },
      "execution_count": 11,
      "outputs": []
    },
    {
      "cell_type": "code",
      "source": [
        "# 입력 데이터를 3D 텐서로 변환\n",
        "X = np.reshape(X, (X.shape[0], 1, 1))"
      ],
      "metadata": {
        "id": "PE_d57gQ8pel"
      },
      "execution_count": 12,
      "outputs": []
    },
    {
      "cell_type": "markdown",
      "source": [
        "## 모델 생성"
      ],
      "metadata": {
        "id": "I_1uJmE48RN0"
      }
    },
    {
      "cell_type": "code",
      "source": [
        "model = Sequential()\n",
        "model.add(SimpleRNN(50, input_shape=(1, 1), return_sequences=False))\n",
        "model.add(Dense(len(tokenizer.word_index)+1, activation='softmax'))\n",
        "\n",
        "# 모델 컴파일\n",
        "model.compile(loss='categorical_crossentropy', optimizer='adam', metrics=['accuracy'])\n",
        "\n",
        "# 모델 요약\n",
        "model.summary()\n",
        "\n",
        "\n",
        "# 모델 학습 (여기서는 예제로 3 에포크만 실행)\n",
        "model.fit(X, y, epochs=3, verbose=2)"
      ],
      "metadata": {
        "colab": {
          "base_uri": "https://localhost:8080/"
        },
        "id": "_-i67MWZ8V4x",
        "outputId": "de8ac58d-c3a8-49f9-cbef-f934d029c083"
      },
      "execution_count": 14,
      "outputs": [
        {
          "output_type": "stream",
          "name": "stdout",
          "text": [
            "Model: \"sequential_1\"\n",
            "_________________________________________________________________\n",
            " Layer (type)                Output Shape              Param #   \n",
            "=================================================================\n",
            " simple_rnn_1 (SimpleRNN)    (None, 50)                2600      \n",
            "                                                                 \n",
            " dense_1 (Dense)             (None, 17)                867       \n",
            "                                                                 \n",
            "=================================================================\n",
            "Total params: 3467 (13.54 KB)\n",
            "Trainable params: 3467 (13.54 KB)\n",
            "Non-trainable params: 0 (0.00 Byte)\n",
            "_________________________________________________________________\n",
            "Epoch 1/3\n",
            "1/1 - 1s - loss: 3.0685 - accuracy: 0.0345 - 1s/epoch - 1s/step\n",
            "Epoch 2/3\n",
            "1/1 - 0s - loss: 3.0404 - accuracy: 0.0345 - 7ms/epoch - 7ms/step\n",
            "Epoch 3/3\n",
            "1/1 - 0s - loss: 3.0130 - accuracy: 0.0345 - 7ms/epoch - 7ms/step\n"
          ]
        },
        {
          "output_type": "execute_result",
          "data": {
            "text/plain": [
              "<keras.src.callbacks.History at 0x7d1cf6c999c0>"
            ]
          },
          "metadata": {},
          "execution_count": 14
        }
      ]
    },
    {
      "cell_type": "markdown",
      "source": [
        "## 문자를 주어진 다음 문자로 매핑하는 함수"
      ],
      "metadata": {
        "id": "v6O5779Z9hFs"
      }
    },
    {
      "cell_type": "code",
      "source": [
        "def predict_next_char(model, tokenizer, char_to_predict):\n",
        "    # 주어진 문자를 정수로 변환\n",
        "    char_index = tokenizer.texts_to_sequences([char_to_predict])[0]\n",
        "    char_index = np.array(char_index).reshape(1, 1, 1)\n",
        "\n",
        "    # 예측\n",
        "    prediction = model.predict(char_index, verbose=0)\n",
        "\n",
        "    # 가장 높은 확률을 가진 정수 인덱스를 찾기\n",
        "    predicted_char_index = np.argmax(prediction)\n",
        "\n",
        "    # 정수를 문자로 다시 변환\n",
        "    predicted_char = tokenizer.sequences_to_texts([[predicted_char_index]])[0]\n",
        "    return predicted_char"
      ],
      "metadata": {
        "id": "ZsWUkqcv9jeK"
      },
      "execution_count": 15,
      "outputs": []
    },
    {
      "cell_type": "markdown",
      "source": [
        "## 예측 테스트"
      ],
      "metadata": {
        "id": "Iq8WLawp9tNX"
      }
    },
    {
      "cell_type": "code",
      "source": [
        "input_char = ''\n",
        "predicted_char = predict_next_char(model, tokenizer, input_char)\n",
        "print('Given character:', input_char)\n",
        "print('Next character prediction:', predicted_char)"
      ],
      "metadata": {
        "colab": {
          "base_uri": "https://localhost:8080/"
        },
        "id": "D7JlYbLj9vy1",
        "outputId": "9f8c2d4e-4bdf-4309-ca65-a14e477dcd02"
      },
      "execution_count": 21,
      "outputs": [
        {
          "output_type": "stream",
          "name": "stdout",
          "text": [
            "Given character: t\n",
            "Next character prediction: r\n"
          ]
        }
      ]
    },
    {
      "cell_type": "code",
      "source": [],
      "metadata": {
        "id": "7yhv4Gub-Ij2"
      },
      "execution_count": null,
      "outputs": []
    }
  ]
}